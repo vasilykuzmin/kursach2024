{
 "cells": [
  {
   "cell_type": "code",
   "execution_count": null,
   "metadata": {},
   "outputs": [],
   "source": [
    "import sys\n",
    "sys.path.append('../')\n",
    "\n",
    "from model import Model\n",
    "import torch"
   ]
  },
  {
   "cell_type": "code",
   "execution_count": null,
   "metadata": {},
   "outputs": [],
   "source": [
    "kline_size = 10\n",
    "hidden_layer = 10\n",
    "column_number = 6\n",
    "features_number = 0\n",
    "\n",
    "net = torch.nn.Sequential(\n",
    "    torch.nn.Linear(column_number * kline_size + features_number, hidden_layer, dtype=torch.float64),\n",
    "    torch.nn.ReLU(),\n",
    "    torch.nn.Linear(hidden_layer, 1, dtype=torch.float64),\n",
    "    torch.nn.Tanh()\n",
    ")\n",
    "\n",
    "model = Model(net)\n",
    "model.addDescription(\n",
    "    {\n",
    "        'model':\n",
    "        {\n",
    "            'scheme':\n",
    "            [\n",
    "                ['linear', column_number * kline_size + features_number, hidden_layer],\n",
    "                'ReLU',\n",
    "                ['linear', hidden_layer, 1],\n",
    "                'Tanh'\n",
    "            ]\n",
    "        }\n",
    "    }\n",
    ")"
   ]
  },
  {
   "cell_type": "code",
   "execution_count": null,
   "metadata": {},
   "outputs": [],
   "source": [
    "from dataset.preprocess import Preprocessor\n",
    "\n",
    "description = {'filename': '../../tmp/trainingData', 'symbol': 'BTCUSDT', 'interval': '1m', 'startTime': 1618012800000, 'endTime': 1620264060000}\n",
    "model.loadDataset(description, Preprocessor(kline_size, column_number))\n",
    "model.addDescription({'dataset': description})\n",
    "model.addDescription({'preprocessor': 'Basic preprocessor, 0 features'})"
   ]
  },
  {
   "cell_type": "code",
   "execution_count": null,
   "metadata": {},
   "outputs": [],
   "source": [
    "lr = 0.00001\n",
    "\n",
    "model.fit(\n",
    "    torch.optim.Adam(net.parameters(), lr),\n",
    "    torch.nn.MSELoss(),\n",
    ")\n",
    "model.addDescription({'model': {'optimizer': ['Adam', {'lr': lr}]}})\n",
    "model.addDescription({'model': {'loss': 'MSE'}})"
   ]
  },
  {
   "cell_type": "code",
   "execution_count": null,
   "metadata": {},
   "outputs": [],
   "source": [
    "model.dumpDescription('../../tmp/run_result.json')"
   ]
  }
 ],
 "metadata": {
  "kernelspec": {
   "display_name": ".venv",
   "language": "python",
   "name": "python3"
  },
  "language_info": {
   "codemirror_mode": {
    "name": "ipython",
    "version": 3
   },
   "file_extension": ".py",
   "mimetype": "text/x-python",
   "name": "python",
   "nbconvert_exporter": "python",
   "pygments_lexer": "ipython3",
   "version": "3.11.8"
  }
 },
 "nbformat": 4,
 "nbformat_minor": 2
}
