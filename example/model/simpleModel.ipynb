{
 "cells": [
  {
   "cell_type": "code",
   "execution_count": 6,
   "metadata": {},
   "outputs": [],
   "source": [
    "import sys\n",
    "sys.path.append('../')\n",
    "\n",
    "from model import Model\n",
    "import torch"
   ]
  },
  {
   "cell_type": "code",
   "execution_count": 7,
   "metadata": {},
   "outputs": [
    {
     "ename": "AttributeError",
     "evalue": "'Model' object has no attribute 'addDescription'",
     "output_type": "error",
     "traceback": [
      "\u001b[0;31m---------------------------------------------------------------------------\u001b[0m",
      "\u001b[0;31mAttributeError\u001b[0m                            Traceback (most recent call last)",
      "Cell \u001b[0;32mIn[7], line 14\u001b[0m\n\u001b[1;32m      6\u001b[0m net \u001b[38;5;241m=\u001b[39m torch\u001b[38;5;241m.\u001b[39mnn\u001b[38;5;241m.\u001b[39mSequential(\n\u001b[1;32m      7\u001b[0m     torch\u001b[38;5;241m.\u001b[39mnn\u001b[38;5;241m.\u001b[39mLinear(column_number \u001b[38;5;241m*\u001b[39m kline_size \u001b[38;5;241m+\u001b[39m features_number, hidden_layer, dtype\u001b[38;5;241m=\u001b[39mtorch\u001b[38;5;241m.\u001b[39mfloat64),\n\u001b[1;32m      8\u001b[0m     torch\u001b[38;5;241m.\u001b[39mnn\u001b[38;5;241m.\u001b[39mReLU(),\n\u001b[1;32m      9\u001b[0m     torch\u001b[38;5;241m.\u001b[39mnn\u001b[38;5;241m.\u001b[39mLinear(hidden_layer, \u001b[38;5;241m1\u001b[39m, dtype\u001b[38;5;241m=\u001b[39mtorch\u001b[38;5;241m.\u001b[39mfloat64),\n\u001b[1;32m     10\u001b[0m     torch\u001b[38;5;241m.\u001b[39mnn\u001b[38;5;241m.\u001b[39mTanh()\n\u001b[1;32m     11\u001b[0m )\n\u001b[1;32m     13\u001b[0m model \u001b[38;5;241m=\u001b[39m Model(net)\n\u001b[0;32m---> 14\u001b[0m \u001b[43mmodel\u001b[49m\u001b[38;5;241;43m.\u001b[39;49m\u001b[43maddDescription\u001b[49m(\n\u001b[1;32m     15\u001b[0m     {\n\u001b[1;32m     16\u001b[0m         \u001b[38;5;124m'\u001b[39m\u001b[38;5;124mmodel\u001b[39m\u001b[38;5;124m'\u001b[39m:\n\u001b[1;32m     17\u001b[0m         {\n\u001b[1;32m     18\u001b[0m             \u001b[38;5;124m'\u001b[39m\u001b[38;5;124mscheme\u001b[39m\u001b[38;5;124m'\u001b[39m:\n\u001b[1;32m     19\u001b[0m             [\n\u001b[1;32m     20\u001b[0m                 [\u001b[38;5;124m'\u001b[39m\u001b[38;5;124mlinear\u001b[39m\u001b[38;5;124m'\u001b[39m, column_number \u001b[38;5;241m*\u001b[39m kline_size \u001b[38;5;241m+\u001b[39m features_number, hidden_layer],\n\u001b[1;32m     21\u001b[0m                 \u001b[38;5;124m'\u001b[39m\u001b[38;5;124mReLU\u001b[39m\u001b[38;5;124m'\u001b[39m,\n\u001b[1;32m     22\u001b[0m                 [\u001b[38;5;124m'\u001b[39m\u001b[38;5;124mlinear\u001b[39m\u001b[38;5;124m'\u001b[39m, hidden_layer, \u001b[38;5;241m1\u001b[39m],\n\u001b[1;32m     23\u001b[0m                 \u001b[38;5;124m'\u001b[39m\u001b[38;5;124mTanh\u001b[39m\u001b[38;5;124m'\u001b[39m\n\u001b[1;32m     24\u001b[0m             ]\n\u001b[1;32m     25\u001b[0m         }\n\u001b[1;32m     26\u001b[0m     }\n\u001b[1;32m     27\u001b[0m )\n",
      "\u001b[0;31mAttributeError\u001b[0m: 'Model' object has no attribute 'addDescription'"
     ]
    }
   ],
   "source": [
    "kline_size = 50\n",
    "hidden_layer = 50\n",
    "column_number = 6\n",
    "features_number = 0\n",
    "\n",
    "net = torch.nn.Sequential(\n",
    "    torch.nn.Linear(column_number * kline_size + features_number, hidden_layer, dtype=torch.float64),\n",
    "    torch.nn.ReLU(),\n",
    "    torch.nn.Linear(hidden_layer, 1, dtype=torch.float64),\n",
    "    torch.nn.Tanh()\n",
    ")\n",
    "\n",
    "model = Model(net)\n",
    "model.addDescription(\n",
    "    {\n",
    "        'model':\n",
    "        {\n",
    "            'scheme':\n",
    "            [\n",
    "                ['linear', column_number * kline_size + features_number, hidden_layer],\n",
    "                'ReLU',\n",
    "                ['linear', hidden_layer, 1],\n",
    "                'Tanh'\n",
    "            ]\n",
    "        }\n",
    "    }\n",
    ")"
   ]
  },
  {
   "cell_type": "code",
   "execution_count": null,
   "metadata": {},
   "outputs": [],
   "source": [
    "from dataset.preprocess import Preprocessor\n",
    "\n",
    "description = {'filename': './tmp/trainingData', 'symbol': 'BTCUSDT', 'interval': '1m', 'startTime': 1618012800000, 'endTime': 1620264060000}\n",
    "model.loadDataset(description, Preprocessor(kline_size, column_number))\n",
    "model.addDescription({'dataset': description})\n",
    "model.addDescription({'preprocessor': 'Basic preprocessor, 0 features'})"
   ]
  },
  {
   "cell_type": "code",
   "execution_count": null,
   "metadata": {},
   "outputs": [
    {
     "data": {
      "image/png": "[encoded data removed]",
      "text/plain": [
       "<Figure size 600x400 with 1 Axes>"
      ]
     },
     "metadata": {},
     "output_type": "display_data"
    },
    {
     "name": "stderr",
     "output_type": "stream",
     "text": [
      "100%|██████████| 10/10 [01:31<00:00,  9.12s/it]\n"
     ]
    }
   ],
   "source": [
    "lr = 0.00001\n",
    "\n",
    "model.fit(\n",
    "    torch.optim.Adam(net.parameters(), lr),\n",
    "    torch.nn.MSELoss(),\n",
    ")\n",
    "model.addDescription({'model': {'optimizer': ['Adam', {'lr': lr}]}})\n",
    "model.addDescription({'model': {'loss': 'MSE'}})"
   ]
  },
  {
   "cell_type": "code",
   "execution_count": null,
   "metadata": {},
   "outputs": [],
   "source": [
    "print(model.getDescription())"
   ]
  }
 ],
 "metadata": {
  "kernelspec": {
   "display_name": ".venv",
   "language": "python",
   "name": "python3"
  },
  "language_info": {
   "codemirror_mode": {
    "name": "ipython",
    "version": 3
   },
   "file_extension": ".py",
   "mimetype": "text/x-python",
   "name": "python",
   "nbconvert_exporter": "python",
   "pygments_lexer": "ipython3",
   "version": "3.9.6"
  }
 },
 "nbformat": 4,
 "nbformat_minor": 2
}
